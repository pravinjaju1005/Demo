{
 "cells": [
  {
   "cell_type": "markdown",
   "metadata": {},
   "source": [
    "## Practice Exercise 2"
   ]
  },
  {
   "cell_type": "markdown",
   "metadata": {},
   "source": [
    "In this assignment, you will try to find some interesting insights into a few movies released between 1916 and 2016, using Python. You will have to download a movie dataset, write Python code to explore the data, gain insights into the movies, actors, directors, and collections, and submit the code."
   ]
  },
  {
   "cell_type": "markdown",
   "metadata": {},
   "source": [
    "#### Some tips before starting the assignment\n",
    "\n",
    "1. Identify the task to be performed correctly, and only then proceed to write the required code. Don’t perform any incorrect analysis or look for information that isn’t required for the assignment.\n",
    "2. In some cases, the variable names have already been assigned, and you just need to write code against them. In other cases, the names to be given are mentioned in the instructions. We strongly advise you to use the mentioned names only.\n",
    "3. Always keep inspecting your data frame after you have performed a particular set of operations.\n",
    "4. There are some checkpoints given in the IPython notebook provided. They're just useful pieces of information you can use to check if the result you have obtained after performing a particular task is correct or not.\n",
    "5. Note that you will be asked to refer to documentation for solving some of the questions. That is done on purpose for you to learn new commands and also how to use the documentation."
   ]
  },
  {
   "cell_type": "code",
   "execution_count": 1,
   "metadata": {},
   "outputs": [],
   "source": [
    "# Import the numpy and pandas packages\n",
    "\n",
    "import numpy as np\n",
    "import pandas as pd"
   ]
  },
  {
   "cell_type": "markdown",
   "metadata": {},
   "source": [
    "### Task 1: Reading and Inspection\n",
    "\n",
    "**Subtask 1.1: Import and read**\n",
    "\n",
    "Import and read the movie database. Store it in a variable called `movies`."
   ]
  },
  {
   "cell_type": "code",
   "execution_count": 9,
   "metadata": {},
   "outputs": [
    {
     "data": {
      "text/plain": [
       "color                         2\n",
       "director_name                 0\n",
       "num_critic_for_reviews        1\n",
       "duration                      1\n",
       "director_facebook_likes       0\n",
       "actor_3_facebook_likes        6\n",
       "actor_2_name                  1\n",
       "actor_1_facebook_likes        0\n",
       "gross                         0\n",
       "genres                        0\n",
       "actor_1_name                  0\n",
       "movie_title                   0\n",
       "num_voted_users               0\n",
       "cast_total_facebook_likes     0\n",
       "actor_3_name                  6\n",
       "facenumber_in_poster          6\n",
       "plot_keywords                30\n",
       "movie_imdb_link               0\n",
       "num_user_for_reviews          0\n",
       "language                      3\n",
       "country                       0\n",
       "content_rating               48\n",
       "budget                        0\n",
       "title_year                    0\n",
       "actor_2_facebook_likes        1\n",
       "imdb_score                    0\n",
       "aspect_ratio                 72\n",
       "movie_facebook_likes          0\n",
       "dtype: int64"
      ]
     },
     "execution_count": 9,
     "metadata": {},
     "output_type": "execute_result"
    }
   ],
   "source": [
    "# Write your code for importing the csv file here\n",
    "movies = pd.read_csv('Movies.csv')\n",
    "movies.isnull().sum() "
   ]
  },
  {
   "cell_type": "markdown",
   "metadata": {},
   "source": [
    "**Subtask 1.2: Inspect the dataframe**\n",
    "\n",
    "Inspect the dataframe's columns, shapes, variable types etc."
   ]
  },
  {
   "cell_type": "code",
   "execution_count": 11,
   "metadata": {},
   "outputs": [
    {
     "data": {
      "text/plain": [
       "(3853, 28)"
      ]
     },
     "execution_count": 11,
     "metadata": {},
     "output_type": "execute_result"
    }
   ],
   "source": [
    "# Write your code for inspection here\n",
    "movies.shape"
   ]
  },
  {
   "cell_type": "markdown",
   "metadata": {},
   "source": [
    "#### <font color='red'>Question 1: How many rows and columns are present in the dataframe? </font>\n",
    "-  <font color='red'>(3821, 26)</font>\n",
    "-  <font color='red'>(3879, 28)</font>\n",
    "-  <font color='red'>(3853, 28)</font>\n",
    "-  <font color='red'>(3866, 26)</font>"
   ]
  },
  {
   "cell_type": "markdown",
   "metadata": {},
   "source": [
    "#### <font color='red'>Question 2: How many columns have null values present in them? Try writing a code for this instead of counting them manually.</font>\n",
    "\n",
    "-  <font color='red'>3</font>\n",
    "-  <font color='red'>6</font>\n",
    "-  <font color='red'>9</font>\n",
    "-  <font color='red'>12</font>"
   ]
  },
  {
   "cell_type": "markdown",
   "metadata": {},
   "source": [
    "### Task 2: Cleaning the Data\n",
    "\n",
    "**Subtask 2.1: Drop unecessary columns**\n",
    "\n",
    "For this assignment, you will mostly be analyzing the movies with respect to the ratings, gross collection, popularity of movies, etc. So many of the columns in this dataframe are not required. So it is advised to drop the following columns.\n",
    "-  color\n",
    "-  director_facebook_likes\n",
    "-  actor_1_facebook_likes\n",
    "-  actor_2_facebook_likes\n",
    "-  actor_3_facebook_likes\n",
    "-  actor_2_name\n",
    "-  cast_total_facebook_likes\n",
    "-  actor_3_name\n",
    "-  duration\n",
    "-  facenumber_in_poster\n",
    "-  content_rating\n",
    "-  country\n",
    "-  movie_imdb_link\n",
    "-  aspect_ratio\n",
    "-  plot_keywords"
   ]
  },
  {
   "cell_type": "code",
   "execution_count": 15,
   "metadata": {},
   "outputs": [],
   "source": [
    "# Check the 'drop' function in the Pandas library - dataframe.drop(list_of_unnecessary_columns, axis = )\n",
    "# Write your code for dropping the columns here. It is advised to keep inspecting the dataframe after each set of operations\n"
   ]
  },
  {
   "cell_type": "markdown",
   "metadata": {},
   "source": [
    "#### <font color='red'>Question 3: What is the count of columns in the new dataframe? </font>\n",
    "-  <font color='red'>10</font>\n",
    "-  <font color='red'>13</font>\n",
    "-  <font color='red'>15</font>\n",
    "-  <font color='red'>17</font>"
   ]
  },
  {
   "cell_type": "markdown",
   "metadata": {},
   "source": [
    "**Subtask 2.2: Inspect Null values**\n",
    "\n",
    "As you have seen above, there are null values in multiple columns of the dataframe 'movies'. Find out the percentage of null values in each column of the dataframe 'movies'. "
   ]
  },
  {
   "cell_type": "code",
   "execution_count": 18,
   "metadata": {},
   "outputs": [
    {
     "data": {
      "text/plain": [
       "color                        0.05\n",
       "director_name                0.00\n",
       "num_critic_for_reviews       0.03\n",
       "duration                     0.03\n",
       "director_facebook_likes      0.00\n",
       "actor_3_facebook_likes       0.16\n",
       "actor_2_name                 0.03\n",
       "actor_1_facebook_likes       0.00\n",
       "gross                        0.00\n",
       "genres                       0.00\n",
       "actor_1_name                 0.00\n",
       "movie_title                  0.00\n",
       "num_voted_users              0.00\n",
       "cast_total_facebook_likes    0.00\n",
       "actor_3_name                 0.16\n",
       "facenumber_in_poster         0.16\n",
       "plot_keywords                0.78\n",
       "movie_imdb_link              0.00\n",
       "num_user_for_reviews         0.00\n",
       "language                     0.08\n",
       "country                      0.00\n",
       "content_rating               1.25\n",
       "budget                       0.00\n",
       "title_year                   0.00\n",
       "actor_2_facebook_likes       0.03\n",
       "imdb_score                   0.00\n",
       "aspect_ratio                 1.87\n",
       "movie_facebook_likes         0.00\n",
       "dtype: float64"
      ]
     },
     "execution_count": 18,
     "metadata": {},
     "output_type": "execute_result"
    }
   ],
   "source": [
    "# Write you code here\n",
    "round(100*(movies.isnull().sum()/len(movies.index)), 2)"
   ]
  },
  {
   "cell_type": "markdown",
   "metadata": {},
   "source": [
    "#### <font color='red'>Question 4: Which column has the highest percentage of null values? </font>\n",
    "-  <font color='red'>language</font>\n",
    "-  <font color='red'>genres</font>\n",
    "-  <font color='red'>num_critic_for_reviews</font>\n",
    "-  <font color='red'>imdb_score</font>"
   ]
  },
  {
   "cell_type": "markdown",
   "metadata": {},
   "source": [
    "**Subtask 2.3: Fill NaN values**\n",
    "\n",
    "You might notice that the `language` column has some NaN values. Here, on inspection, you will see that it is safe to replace all the missing values with `'English'`."
   ]
  },
  {
   "cell_type": "code",
   "execution_count": 20,
   "metadata": {},
   "outputs": [
    {
     "data": {
      "text/plain": [
       "3674"
      ]
     },
     "execution_count": 20,
     "metadata": {},
     "output_type": "execute_result"
    }
   ],
   "source": [
    "# Write your code for filling the NaN values in the 'language' column here\n",
    "movies.loc[pd.isnull(movies['language']), ['language']] = 'English'\n",
    "(movies.language == 'English').sum()"
   ]
  },
  {
   "cell_type": "markdown",
   "metadata": {},
   "source": [
    "#### <font color='red'>Question 5: What is the count of movies made in English language after replacing the NaN values with English? </font>\n",
    "-  <font color='red'>3670</font>\n",
    "-  <font color='red'>3674</font>\n",
    "-  <font color='red'>3668</font>\n",
    "-  <font color='red'>3672</font>"
   ]
  },
  {
   "cell_type": "markdown",
   "metadata": {},
   "source": [
    "### Task 3: Data Analysis\n",
    "\n",
    "**Subtask 3.1: Change the unit of columns**\n",
    "\n",
    "Convert the unit of the `budget` and `gross` columns from `$` to `million $`."
   ]
  },
  {
   "cell_type": "code",
   "execution_count": 22,
   "metadata": {},
   "outputs": [
    {
     "data": {
      "text/html": [
       "<div>\n",
       "<style scoped>\n",
       "    .dataframe tbody tr th:only-of-type {\n",
       "        vertical-align: middle;\n",
       "    }\n",
       "\n",
       "    .dataframe tbody tr th {\n",
       "        vertical-align: top;\n",
       "    }\n",
       "\n",
       "    .dataframe thead th {\n",
       "        text-align: right;\n",
       "    }\n",
       "</style>\n",
       "<table border=\"1\" class=\"dataframe\">\n",
       "  <thead>\n",
       "    <tr style=\"text-align: right;\">\n",
       "      <th></th>\n",
       "      <th>color</th>\n",
       "      <th>director_name</th>\n",
       "      <th>num_critic_for_reviews</th>\n",
       "      <th>duration</th>\n",
       "      <th>director_facebook_likes</th>\n",
       "      <th>actor_3_facebook_likes</th>\n",
       "      <th>actor_2_name</th>\n",
       "      <th>actor_1_facebook_likes</th>\n",
       "      <th>gross</th>\n",
       "      <th>genres</th>\n",
       "      <th>...</th>\n",
       "      <th>language</th>\n",
       "      <th>country</th>\n",
       "      <th>content_rating</th>\n",
       "      <th>budget</th>\n",
       "      <th>title_year</th>\n",
       "      <th>actor_2_facebook_likes</th>\n",
       "      <th>imdb_score</th>\n",
       "      <th>aspect_ratio</th>\n",
       "      <th>movie_facebook_likes</th>\n",
       "      <th>profit</th>\n",
       "    </tr>\n",
       "  </thead>\n",
       "  <tbody>\n",
       "    <tr>\n",
       "      <th>0</th>\n",
       "      <td>Color</td>\n",
       "      <td>James Cameron</td>\n",
       "      <td>723.0</td>\n",
       "      <td>178.0</td>\n",
       "      <td>0.0</td>\n",
       "      <td>855.0</td>\n",
       "      <td>Joel David Moore</td>\n",
       "      <td>1000.0</td>\n",
       "      <td>760505847.0</td>\n",
       "      <td>Action|Adventure|Fantasy|Sci-Fi</td>\n",
       "      <td>...</td>\n",
       "      <td>English</td>\n",
       "      <td>USA</td>\n",
       "      <td>PG-13</td>\n",
       "      <td>237000000.0</td>\n",
       "      <td>2009.0</td>\n",
       "      <td>936.0</td>\n",
       "      <td>7.9</td>\n",
       "      <td>1.78</td>\n",
       "      <td>33000</td>\n",
       "      <td>523505847.0</td>\n",
       "    </tr>\n",
       "    <tr>\n",
       "      <th>28</th>\n",
       "      <td>Color</td>\n",
       "      <td>Colin Trevorrow</td>\n",
       "      <td>644.0</td>\n",
       "      <td>124.0</td>\n",
       "      <td>365.0</td>\n",
       "      <td>1000.0</td>\n",
       "      <td>Judy Greer</td>\n",
       "      <td>3000.0</td>\n",
       "      <td>652177271.0</td>\n",
       "      <td>Action|Adventure|Sci-Fi|Thriller</td>\n",
       "      <td>...</td>\n",
       "      <td>English</td>\n",
       "      <td>USA</td>\n",
       "      <td>PG-13</td>\n",
       "      <td>150000000.0</td>\n",
       "      <td>2015.0</td>\n",
       "      <td>2000.0</td>\n",
       "      <td>7.0</td>\n",
       "      <td>2.00</td>\n",
       "      <td>150000</td>\n",
       "      <td>502177271.0</td>\n",
       "    </tr>\n",
       "    <tr>\n",
       "      <th>25</th>\n",
       "      <td>Color</td>\n",
       "      <td>James Cameron</td>\n",
       "      <td>315.0</td>\n",
       "      <td>194.0</td>\n",
       "      <td>0.0</td>\n",
       "      <td>794.0</td>\n",
       "      <td>Kate Winslet</td>\n",
       "      <td>29000.0</td>\n",
       "      <td>658672302.0</td>\n",
       "      <td>Drama|Romance</td>\n",
       "      <td>...</td>\n",
       "      <td>English</td>\n",
       "      <td>USA</td>\n",
       "      <td>PG-13</td>\n",
       "      <td>200000000.0</td>\n",
       "      <td>1997.0</td>\n",
       "      <td>14000.0</td>\n",
       "      <td>7.7</td>\n",
       "      <td>2.35</td>\n",
       "      <td>26000</td>\n",
       "      <td>458672302.0</td>\n",
       "    </tr>\n",
       "    <tr>\n",
       "      <th>2704</th>\n",
       "      <td>Color</td>\n",
       "      <td>George Lucas</td>\n",
       "      <td>282.0</td>\n",
       "      <td>125.0</td>\n",
       "      <td>0.0</td>\n",
       "      <td>504.0</td>\n",
       "      <td>Peter Cushing</td>\n",
       "      <td>11000.0</td>\n",
       "      <td>460935665.0</td>\n",
       "      <td>Action|Adventure|Fantasy|Sci-Fi</td>\n",
       "      <td>...</td>\n",
       "      <td>English</td>\n",
       "      <td>USA</td>\n",
       "      <td>PG</td>\n",
       "      <td>11000000.0</td>\n",
       "      <td>1977.0</td>\n",
       "      <td>1000.0</td>\n",
       "      <td>8.7</td>\n",
       "      <td>2.35</td>\n",
       "      <td>33000</td>\n",
       "      <td>449935665.0</td>\n",
       "    </tr>\n",
       "    <tr>\n",
       "      <th>2748</th>\n",
       "      <td>Color</td>\n",
       "      <td>Steven Spielberg</td>\n",
       "      <td>215.0</td>\n",
       "      <td>120.0</td>\n",
       "      <td>14000.0</td>\n",
       "      <td>548.0</td>\n",
       "      <td>Dee Wallace</td>\n",
       "      <td>861.0</td>\n",
       "      <td>434949459.0</td>\n",
       "      <td>Family|Sci-Fi</td>\n",
       "      <td>...</td>\n",
       "      <td>English</td>\n",
       "      <td>USA</td>\n",
       "      <td>PG</td>\n",
       "      <td>10500000.0</td>\n",
       "      <td>1982.0</td>\n",
       "      <td>725.0</td>\n",
       "      <td>7.9</td>\n",
       "      <td>1.85</td>\n",
       "      <td>34000</td>\n",
       "      <td>424449459.0</td>\n",
       "    </tr>\n",
       "    <tr>\n",
       "      <th>16</th>\n",
       "      <td>Color</td>\n",
       "      <td>Joss Whedon</td>\n",
       "      <td>703.0</td>\n",
       "      <td>173.0</td>\n",
       "      <td>0.0</td>\n",
       "      <td>19000.0</td>\n",
       "      <td>Robert Downey Jr.</td>\n",
       "      <td>26000.0</td>\n",
       "      <td>623279547.0</td>\n",
       "      <td>Action|Adventure|Sci-Fi</td>\n",
       "      <td>...</td>\n",
       "      <td>English</td>\n",
       "      <td>USA</td>\n",
       "      <td>PG-13</td>\n",
       "      <td>220000000.0</td>\n",
       "      <td>2012.0</td>\n",
       "      <td>21000.0</td>\n",
       "      <td>8.1</td>\n",
       "      <td>1.85</td>\n",
       "      <td>123000</td>\n",
       "      <td>403279547.0</td>\n",
       "    </tr>\n",
       "    <tr>\n",
       "      <th>482</th>\n",
       "      <td>Color</td>\n",
       "      <td>Roger Allers</td>\n",
       "      <td>186.0</td>\n",
       "      <td>73.0</td>\n",
       "      <td>28.0</td>\n",
       "      <td>847.0</td>\n",
       "      <td>Nathan Lane</td>\n",
       "      <td>2000.0</td>\n",
       "      <td>422783777.0</td>\n",
       "      <td>Adventure|Animation|Drama|Family|Musical</td>\n",
       "      <td>...</td>\n",
       "      <td>English</td>\n",
       "      <td>USA</td>\n",
       "      <td>G</td>\n",
       "      <td>45000000.0</td>\n",
       "      <td>1994.0</td>\n",
       "      <td>886.0</td>\n",
       "      <td>8.5</td>\n",
       "      <td>1.66</td>\n",
       "      <td>17000</td>\n",
       "      <td>377783777.0</td>\n",
       "    </tr>\n",
       "    <tr>\n",
       "      <th>230</th>\n",
       "      <td>Color</td>\n",
       "      <td>George Lucas</td>\n",
       "      <td>320.0</td>\n",
       "      <td>136.0</td>\n",
       "      <td>0.0</td>\n",
       "      <td>1000.0</td>\n",
       "      <td>Liam Neeson</td>\n",
       "      <td>20000.0</td>\n",
       "      <td>474544677.0</td>\n",
       "      <td>Action|Adventure|Fantasy|Sci-Fi</td>\n",
       "      <td>...</td>\n",
       "      <td>English</td>\n",
       "      <td>USA</td>\n",
       "      <td>PG</td>\n",
       "      <td>115000000.0</td>\n",
       "      <td>1999.0</td>\n",
       "      <td>14000.0</td>\n",
       "      <td>6.5</td>\n",
       "      <td>2.35</td>\n",
       "      <td>13000</td>\n",
       "      <td>359544677.0</td>\n",
       "    </tr>\n",
       "    <tr>\n",
       "      <th>64</th>\n",
       "      <td>Color</td>\n",
       "      <td>Christopher Nolan</td>\n",
       "      <td>645.0</td>\n",
       "      <td>152.0</td>\n",
       "      <td>22000.0</td>\n",
       "      <td>11000.0</td>\n",
       "      <td>Heath Ledger</td>\n",
       "      <td>23000.0</td>\n",
       "      <td>533316061.0</td>\n",
       "      <td>Action|Crime|Drama|Thriller</td>\n",
       "      <td>...</td>\n",
       "      <td>English</td>\n",
       "      <td>USA</td>\n",
       "      <td>PG-13</td>\n",
       "      <td>185000000.0</td>\n",
       "      <td>2008.0</td>\n",
       "      <td>13000.0</td>\n",
       "      <td>9.0</td>\n",
       "      <td>2.35</td>\n",
       "      <td>37000</td>\n",
       "      <td>348316061.0</td>\n",
       "    </tr>\n",
       "    <tr>\n",
       "      <th>419</th>\n",
       "      <td>Color</td>\n",
       "      <td>Gary Ross</td>\n",
       "      <td>673.0</td>\n",
       "      <td>142.0</td>\n",
       "      <td>378.0</td>\n",
       "      <td>575.0</td>\n",
       "      <td>Josh Hutcherson</td>\n",
       "      <td>34000.0</td>\n",
       "      <td>407999255.0</td>\n",
       "      <td>Adventure|Drama|Sci-Fi|Thriller</td>\n",
       "      <td>...</td>\n",
       "      <td>English</td>\n",
       "      <td>USA</td>\n",
       "      <td>PG-13</td>\n",
       "      <td>78000000.0</td>\n",
       "      <td>2012.0</td>\n",
       "      <td>14000.0</td>\n",
       "      <td>7.3</td>\n",
       "      <td>2.35</td>\n",
       "      <td>140000</td>\n",
       "      <td>329999255.0</td>\n",
       "    </tr>\n",
       "  </tbody>\n",
       "</table>\n",
       "<p>10 rows × 29 columns</p>\n",
       "</div>"
      ],
      "text/plain": [
       "      color      director_name  num_critic_for_reviews  duration  \\\n",
       "0     Color      James Cameron                   723.0     178.0   \n",
       "28    Color    Colin Trevorrow                   644.0     124.0   \n",
       "25    Color      James Cameron                   315.0     194.0   \n",
       "2704  Color       George Lucas                   282.0     125.0   \n",
       "2748  Color   Steven Spielberg                   215.0     120.0   \n",
       "16    Color        Joss Whedon                   703.0     173.0   \n",
       "482   Color       Roger Allers                   186.0      73.0   \n",
       "230   Color       George Lucas                   320.0     136.0   \n",
       "64    Color  Christopher Nolan                   645.0     152.0   \n",
       "419   Color          Gary Ross                   673.0     142.0   \n",
       "\n",
       "      director_facebook_likes  actor_3_facebook_likes       actor_2_name  \\\n",
       "0                         0.0                   855.0   Joel David Moore   \n",
       "28                      365.0                  1000.0         Judy Greer   \n",
       "25                        0.0                   794.0       Kate Winslet   \n",
       "2704                      0.0                   504.0      Peter Cushing   \n",
       "2748                  14000.0                   548.0        Dee Wallace   \n",
       "16                        0.0                 19000.0  Robert Downey Jr.   \n",
       "482                      28.0                   847.0        Nathan Lane   \n",
       "230                       0.0                  1000.0        Liam Neeson   \n",
       "64                    22000.0                 11000.0       Heath Ledger   \n",
       "419                     378.0                   575.0    Josh Hutcherson   \n",
       "\n",
       "      actor_1_facebook_likes        gross  \\\n",
       "0                     1000.0  760505847.0   \n",
       "28                    3000.0  652177271.0   \n",
       "25                   29000.0  658672302.0   \n",
       "2704                 11000.0  460935665.0   \n",
       "2748                   861.0  434949459.0   \n",
       "16                   26000.0  623279547.0   \n",
       "482                   2000.0  422783777.0   \n",
       "230                  20000.0  474544677.0   \n",
       "64                   23000.0  533316061.0   \n",
       "419                  34000.0  407999255.0   \n",
       "\n",
       "                                        genres  ... language country  \\\n",
       "0              Action|Adventure|Fantasy|Sci-Fi  ...  English     USA   \n",
       "28            Action|Adventure|Sci-Fi|Thriller  ...  English     USA   \n",
       "25                               Drama|Romance  ...  English     USA   \n",
       "2704           Action|Adventure|Fantasy|Sci-Fi  ...  English     USA   \n",
       "2748                             Family|Sci-Fi  ...  English     USA   \n",
       "16                     Action|Adventure|Sci-Fi  ...  English     USA   \n",
       "482   Adventure|Animation|Drama|Family|Musical  ...  English     USA   \n",
       "230            Action|Adventure|Fantasy|Sci-Fi  ...  English     USA   \n",
       "64                 Action|Crime|Drama|Thriller  ...  English     USA   \n",
       "419            Adventure|Drama|Sci-Fi|Thriller  ...  English     USA   \n",
       "\n",
       "      content_rating       budget title_year  actor_2_facebook_likes  \\\n",
       "0              PG-13  237000000.0     2009.0                   936.0   \n",
       "28             PG-13  150000000.0     2015.0                  2000.0   \n",
       "25             PG-13  200000000.0     1997.0                 14000.0   \n",
       "2704              PG   11000000.0     1977.0                  1000.0   \n",
       "2748              PG   10500000.0     1982.0                   725.0   \n",
       "16             PG-13  220000000.0     2012.0                 21000.0   \n",
       "482                G   45000000.0     1994.0                   886.0   \n",
       "230               PG  115000000.0     1999.0                 14000.0   \n",
       "64             PG-13  185000000.0     2008.0                 13000.0   \n",
       "419            PG-13   78000000.0     2012.0                 14000.0   \n",
       "\n",
       "     imdb_score aspect_ratio  movie_facebook_likes       profit  \n",
       "0           7.9         1.78                 33000  523505847.0  \n",
       "28          7.0         2.00                150000  502177271.0  \n",
       "25          7.7         2.35                 26000  458672302.0  \n",
       "2704        8.7         2.35                 33000  449935665.0  \n",
       "2748        7.9         1.85                 34000  424449459.0  \n",
       "16          8.1         1.85                123000  403279547.0  \n",
       "482         8.5         1.66                 17000  377783777.0  \n",
       "230         6.5         2.35                 13000  359544677.0  \n",
       "64          9.0         2.35                 37000  348316061.0  \n",
       "419         7.3         2.35                140000  329999255.0  \n",
       "\n",
       "[10 rows x 29 columns]"
      ]
     },
     "execution_count": 22,
     "metadata": {},
     "output_type": "execute_result"
    }
   ],
   "source": [
    "# Write your code for unit conversion here\n",
    "movies['profit'] = movies['gross'] - movies['budget']\n",
    "top_10 = movies.sort_values(by = 'profit', ascending = False).head(10)\n",
    "top_10"
   ]
  },
  {
   "cell_type": "markdown",
   "metadata": {},
   "source": [
    "**Subtask 3.2: Find the movies with highest profit**\n",
    "\n",
    "   1. Create a new column called `profit` which contains the difference of the two columns: `gross` and `budget`.\n",
    "   2. Sort the dataframe using the `profit` column as reference. (Find which command can be used here to sort entries from the documentation)\n",
    "   3. Extract the top ten profiting movies in descending order and store them in a new dataframe - `top10`"
   ]
  },
  {
   "cell_type": "code",
   "execution_count": 23,
   "metadata": {},
   "outputs": [
    {
     "data": {
      "image/png": "[encoded data removed]",
      "text/plain": [
       "<Figure size 432x288 with 1 Axes>"
      ]
     },
     "metadata": {
      "needs_background": "light"
     },
     "output_type": "display_data"
    }
   ],
   "source": [
    "# Write your code for creating the profit column here\n",
    "IMDb_Top_250 = movies.sort_values(by = 'imdb_score', ascending = False)\n",
    "IMDb_Top_250 = IMDb_Top_250.loc[IMDb_Top_250.num_voted_users > 25000]\n",
    "IMDb_Top_250 = IMDb_Top_250.iloc[:250, ]\n",
    "IMDb_Top_250['Rank'] = range(1,251)\n",
    "\n",
    "import matplotlib.pyplot as plt\n",
    "plt.hist(IMDb_Top_250['imdb_score'], bins = 5, range = (7.5,10), edgecolor = 'cyan')\n",
    "plt.show()"
   ]
  },
  {
   "cell_type": "code",
   "execution_count": 25,
   "metadata": {},
   "outputs": [
    {
     "data": {
      "text/plain": [
       "actor_1_name\n",
       "Brad Pitt            742.352941\n",
       "Leonardo DiCaprio    914.476190\n",
       "Meryl Streep         297.181818\n",
       "Name: num_user_for_reviews, dtype: float64"
      ]
     },
     "execution_count": 25,
     "metadata": {},
     "output_type": "execute_result"
    }
   ],
   "source": [
    "# Write your code for sorting the dataframe here\n",
    "Meryl_Streep = movies.loc[movies.actor_1_name == 'Meryl Streep']\n",
    "Leo_Caprio = movies.loc[movies.actor_1_name == 'Leonardo DiCaprio']\n",
    "Brad_Pitt = movies.loc[movies.actor_1_name == 'Brad Pitt']\n",
    "Combined = pd.concat([Meryl_Streep, Brad_Pitt, Leo_Caprio])\n",
    "Combined_by_segment = Combined.groupby('actor_1_name')\n",
    "\n",
    "Combined_by_segment['num_user_for_reviews'].mean()"
   ]
  },
  {
   "cell_type": "code",
   "execution_count": 26,
   "metadata": {},
   "outputs": [
    {
     "data": {
      "text/plain": [
       "actor_1_name\n",
       "Brad Pitt            245.000000\n",
       "Leonardo DiCaprio    330.190476\n",
       "Meryl Streep         181.454545\n",
       "Name: num_critic_for_reviews, dtype: float64"
      ]
     },
     "execution_count": 26,
     "metadata": {},
     "output_type": "execute_result"
    }
   ],
   "source": [
    "# Write your code to get the top 10 profiting movies here\n",
    "Meryl_Streep = movies.loc[movies.actor_1_name == 'Meryl Streep']\n",
    "Leo_Caprio = movies.loc[movies.actor_1_name == 'Leonardo DiCaprio']\n",
    "Brad_Pitt = movies.loc[movies.actor_1_name == 'Brad Pitt']\n",
    "Combined = pd.concat([Meryl_Streep, Brad_Pitt, Leo_Caprio])\n",
    "Combined_by_segment = Combined.groupby('actor_1_name')\n",
    "\n",
    "Combined_by_segment['num_critic_for_reviews'].mean()"
   ]
  },
  {
   "cell_type": "markdown",
   "metadata": {},
   "source": [
    "**Checkpoint:** You might spot two movies directed by `James Cameron` in the list."
   ]
  },
  {
   "cell_type": "markdown",
   "metadata": {},
   "source": [
    "#### <font color='red'>Question 6: Which movie is ranked 5th from the top in the list obtained? </font>\n",
    "-  <font color='red'>E.T. the Extra-Terrestrial</font>\n",
    "-  <font color='red'>The Avengers</font>\n",
    "-  <font color='red'>The Dark Knight</font>\n",
    "-  <font color='red'>Titanic</font>"
   ]
  },
  {
   "cell_type": "markdown",
   "metadata": {},
   "source": [
    "**Subtask 3.3: Find IMDb Top 250**\n",
    "\n",
    "Create a new dataframe `IMDb_Top_250` and store the top 250 movies with the highest IMDb Rating (corresponding to the column: `imdb_score`). Also make sure that for all of these movies, the `num_voted_users` is greater than 25,000. \n",
    "\n",
    "Also add a `Rank` column containing the values 1 to 250 indicating the ranks of the corresponding films."
   ]
  },
  {
   "cell_type": "code",
   "execution_count": null,
   "metadata": {},
   "outputs": [],
   "source": [
    "# Write your code for extracting the top 250 movies as per the IMDb score here. Make sure that you store it in a new dataframe \n",
    "# and name that dataframe as 'IMDb_Top_250'\n"
   ]
  },
  {
   "cell_type": "markdown",
   "metadata": {},
   "source": [
    "#### <font color='red'>Question 7: Suppose movies are divided into 5 buckets based on the IMDb ratings: </font>\n",
    "-  <font color='red'>7.5 to 8</font>\n",
    "-  <font color='red'>8 to 8.5</font>\n",
    "-  <font color='red'>8.5 to 9</font>\n",
    "-  <font color='red'>9 to 9.5</font>\n",
    "-  <font color='red'>9.5 to 10</font>\n",
    "\n",
    "<font color = 'red'> Which bucket holds the maximum number of movies from *IMDb_Top_250*? </font>"
   ]
  },
  {
   "cell_type": "markdown",
   "metadata": {},
   "source": [
    "**Subtask 3.4: Find the critic-favorite and audience-favorite actors**\n",
    "\n",
    "   1. Create three new dataframes namely, `Meryl_Streep`, `Leo_Caprio`, and `Brad_Pitt` which contain the movies in which the actors: 'Meryl Streep', 'Leonardo DiCaprio', and 'Brad Pitt' are the lead actors. Use only the `actor_1_name` column for extraction. Also, make sure that you use the names 'Meryl Streep', 'Leonardo DiCaprio', and 'Brad Pitt' for the said extraction.\n",
    "   2. Append the rows of all these dataframes and store them in a new dataframe named `Combined`.\n",
    "   3. Group the combined dataframe using the `actor_1_name` column.\n",
    "   4. Find the mean of the `num_critic_for_reviews` and `num_user_for_review` and identify the actors which have the highest mean."
   ]
  },
  {
   "cell_type": "code",
   "execution_count": null,
   "metadata": {},
   "outputs": [],
   "source": [
    "# Write your code for creating three new dataframes here\n",
    "Meryl_Streep = # Include all movies in which Meryl_Streep is the lead"
   ]
  },
  {
   "cell_type": "code",
   "execution_count": null,
   "metadata": {},
   "outputs": [],
   "source": [
    "Leo_Caprio = # Include all movies in which Leo_Caprio is the lead"
   ]
  },
  {
   "cell_type": "code",
   "execution_count": null,
   "metadata": {},
   "outputs": [],
   "source": [
    "Brad_Pitt = # Include all movies in which Brad_Pitt is the lead"
   ]
  },
  {
   "cell_type": "code",
   "execution_count": null,
   "metadata": {},
   "outputs": [],
   "source": [
    "# Write your code for combining the three dataframes here\n",
    "Combined = "
   ]
  },
  {
   "cell_type": "code",
   "execution_count": null,
   "metadata": {},
   "outputs": [],
   "source": [
    "# Write your code for grouping the combined dataframe here\n"
   ]
  },
  {
   "cell_type": "code",
   "execution_count": null,
   "metadata": {},
   "outputs": [],
   "source": [
    "# Write the code for finding the mean of critic reviews and audience reviews here\n"
   ]
  },
  {
   "cell_type": "markdown",
   "metadata": {},
   "source": [
    "#### <font color='red'>Question 8: Which actor is highest rated among the three actors according to the user reviews? </font>\n",
    "-  <font color='red'>Meryl Streep</font>\n",
    "-  <font color='red'>Leonardo DiCaprio</font>\n",
    "-  <font color='red'>Brad Pitt</font>"
   ]
  },
  {
   "cell_type": "markdown",
   "metadata": {},
   "source": [
    "#### <font color='red'>Question 9: Which actor is highest rated among the three actors according to the critics?</font>\n",
    "-  <font color='red'>Meryl Streep</font>\n",
    "-  <font color='red'>Leonardo DiCaprio</font>\n",
    "-  <font color='red'>Brad Pitt</font>"
   ]
  },
  {
   "cell_type": "code",
   "execution_count": null,
   "metadata": {},
   "outputs": [],
   "source": []
  }
 ],
 "metadata": {
  "kernelspec": {
   "display_name": "Python 3",
   "language": "python",
   "name": "python3"
  },
  "language_info": {
   "codemirror_mode": {
    "name": "ipython",
    "version": 3
   },
   "file_extension": ".py",
   "mimetype": "text/x-python",
   "name": "python",
   "nbconvert_exporter": "python",
   "pygments_lexer": "ipython3",
   "version": "3.7.6"
  }
 },
 "nbformat": 4,
 "nbformat_minor": 2
}
