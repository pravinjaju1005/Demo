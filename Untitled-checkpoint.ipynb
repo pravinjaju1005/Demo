{
 "cells": [
  {
   "cell_type": "code",
   "execution_count": 1,
   "metadata": {},
   "outputs": [],
   "source": [
    "import numpy as np\n",
    "import pandas as pd\n",
    "import matplotlib.pyplot as plt\n",
    "import seaborn as sns\n",
    "from pandas_profiling import ProfileReport"
   ]
  },
  {
   "cell_type": "code",
   "execution_count": 2,
   "metadata": {},
   "outputs": [],
   "source": [
    "# # dictionary of data \n",
    "# df = pd.read_csv('application_data.csv')\n",
    "\n",
    "# # forming dataframe and printing \n",
    "# data = pd.DataFrame(df) \n",
    "\n",
    "# # forming ProfileReport and save \n",
    "# # as output.html file \n",
    "# profile = ProfileReport(data) \n",
    "# profile.to_file(output_file = 'Discharge_profiling.html')\n",
    "# profile"
   ]
  },
  {
   "cell_type": "code",
   "execution_count": 16,
   "metadata": {},
   "outputs": [],
   "source": [
    "appdata = pd.read_csv('application_data.csv')"
   ]
  },
  {
   "cell_type": "code",
   "execution_count": 11,
   "metadata": {},
   "outputs": [],
   "source": [
    "# # df.dropna(thresh=df.shape[0]*0.2,how='all',axis=1)\n",
    "# # df = df.loc[:, (df.isin([' ','NULL',0]) | df.isnull()).mean() <= 0.25]\n",
    "# df = df.loc[:, df.isin([' ','NULL',0, np.nan]).mean() < 0.5]\n",
    "# df.isna().mean()"
   ]
  },
  {
   "cell_type": "code",
   "execution_count": 17,
   "metadata": {},
   "outputs": [
    {
     "name": "stdout",
     "output_type": "stream",
     "text": [
      "<class 'pandas.core.frame.DataFrame'>\n",
      "RangeIndex: 307511 entries, 0 to 307510\n",
      "Data columns (total 34 columns):\n",
      " #   Column                       Non-Null Count   Dtype  \n",
      "---  ------                       --------------   -----  \n",
      " 0   SK_ID_CURR                   307511 non-null  int64  \n",
      " 1   NAME_CONTRACT_TYPE           307511 non-null  object \n",
      " 2   CODE_GENDER                  307511 non-null  object \n",
      " 3   FLAG_OWN_CAR                 307511 non-null  object \n",
      " 4   FLAG_OWN_REALTY              307511 non-null  object \n",
      " 5   AMT_INCOME_TOTAL             307511 non-null  float64\n",
      " 6   AMT_CREDIT                   307511 non-null  float64\n",
      " 7   AMT_ANNUITY                  307499 non-null  float64\n",
      " 8   AMT_GOODS_PRICE              307233 non-null  float64\n",
      " 9   NAME_TYPE_SUITE              306219 non-null  object \n",
      " 10  NAME_INCOME_TYPE             307511 non-null  object \n",
      " 11  NAME_EDUCATION_TYPE          307511 non-null  object \n",
      " 12  NAME_FAMILY_STATUS           307511 non-null  object \n",
      " 13  NAME_HOUSING_TYPE            307511 non-null  object \n",
      " 14  REGION_POPULATION_RELATIVE   307511 non-null  float64\n",
      " 15  DAYS_BIRTH                   307511 non-null  int64  \n",
      " 16  DAYS_EMPLOYED                307511 non-null  int64  \n",
      " 17  DAYS_REGISTRATION            307511 non-null  float64\n",
      " 18  DAYS_ID_PUBLISH              307511 non-null  int64  \n",
      " 19  FLAG_MOBIL                   307511 non-null  int64  \n",
      " 20  FLAG_EMP_PHONE               307511 non-null  int64  \n",
      " 21  FLAG_CONT_MOBILE             307511 non-null  int64  \n",
      " 22  OCCUPATION_TYPE              211120 non-null  object \n",
      " 23  CNT_FAM_MEMBERS              307509 non-null  float64\n",
      " 24  REGION_RATING_CLIENT         307511 non-null  int64  \n",
      " 25  REGION_RATING_CLIENT_W_CITY  307511 non-null  int64  \n",
      " 26  WEEKDAY_APPR_PROCESS_START   307511 non-null  object \n",
      " 27  HOUR_APPR_PROCESS_START      307511 non-null  int64  \n",
      " 28  ORGANIZATION_TYPE            307511 non-null  object \n",
      " 29  EXT_SOURCE_2                 306851 non-null  float64\n",
      " 30  EXT_SOURCE_3                 246546 non-null  float64\n",
      " 31  DAYS_LAST_PHONE_CHANGE       307510 non-null  float64\n",
      " 32  FLAG_DOCUMENT_3              307511 non-null  int64  \n",
      " 33  AMT_REQ_CREDIT_BUREAU_YEAR   265992 non-null  float64\n",
      "dtypes: float64(11), int64(11), object(12)\n",
      "memory usage: 79.8+ MB\n"
     ]
    }
   ],
   "source": [
    "appdata = appdata.loc[:, appdata.isin([' ','NULL',0, np.nan]).mean() < 0.45]\n",
    "appdata.info()"
   ]
  },
  {
   "cell_type": "code",
   "execution_count": null,
   "metadata": {},
   "outputs": [],
   "source": [
    "data = pd.DataFrame(appdata) \n",
    "\n",
    "profile = ProfileReport(data) \n",
    "profile.to_file(output_file = 'Discharge_profiling.html')\n",
    "profile"
   ]
  },
  {
   "cell_type": "code",
   "execution_count": null,
   "metadata": {},
   "outputs": [],
   "source": []
  }
 ],
 "metadata": {
  "kernelspec": {
   "display_name": "Python 3",
   "language": "python",
   "name": "python3"
  },
  "language_info": {
   "codemirror_mode": {
    "name": "ipython",
    "version": 3
   },
   "file_extension": ".py",
   "mimetype": "text/x-python",
   "name": "python",
   "nbconvert_exporter": "python",
   "pygments_lexer": "ipython3",
   "version": "3.7.6"
  }
 },
 "nbformat": 4,
 "nbformat_minor": 4
}
